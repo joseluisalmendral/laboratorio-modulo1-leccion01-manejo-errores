{
 "cells": [
  {
   "cell_type": "markdown",
   "metadata": {},
   "source": [
    "\n",
    "<div style=\"text-align: center;\">\n",
    "  <img src=\"https://github.com/Hack-io-Data/Imagenes/blob/main/01-LogosHackio/logo_celeste@4x.png?raw=true\" alt=\"esquema\" />\n",
    "</div>\n"
   ]
  },
  {
   "cell_type": "markdown",
   "metadata": {},
   "source": [
    "# Laboratorio de Python: manejo de errores."
   ]
  },
  {
   "cell_type": "markdown",
   "metadata": {},
   "source": [
    "## Ejercicio 1: División con manejo de excepciones\n",
    "\n",
    "Escribe un programa que pida al usuario dos números e intente dividirlos. Si el usuario ingresa un valor no numérico o intenta dividir por cero, maneja esas excepciones de manera adecuada. Asegúrate de mostrar un mensaje indicando si la división fue exitosa o no.\n"
   ]
  },
  {
   "cell_type": "code",
   "execution_count": 4,
   "metadata": {},
   "outputs": [
    {
     "name": "stdout",
     "output_type": "stream",
     "text": [
      "El usuario introdujo un valor no valido\n"
     ]
    }
   ],
   "source": [
    "try:\n",
    "    n1 = int(input(\"Ingresa el primer numero\"))\n",
    "    n2 = int(input(\"Ingresa el segundo numero\"))\n",
    "    print(n1 / n2)\n",
    "except ZeroDivisionError:\n",
    "    print(\"El usuario ha intentado dividir entre 0\")\n",
    "except ValueError:\n",
    "    print(\"El usuario introdujo un valor no valido\")\n",
    "finally:\n",
    "    pass"
   ]
  },
  {
   "cell_type": "markdown",
   "metadata": {},
   "source": [
    "## Ejercicio 2: Acceso a archivos\n",
    "\n",
    "Escribe un programa que intente abrir un archivo llamado \"datos.txt\". Si el archivo no existe, captura la excepción y muestra un mensaje de error. Asegúrate de cerrar el archivo correctamente en la sección `finally`.\n"
   ]
  },
  {
   "cell_type": "code",
   "execution_count": 5,
   "metadata": {},
   "outputs": [
    {
     "name": "stdout",
     "output_type": "stream",
     "text": [
      "Parece que el archivo no existe\n",
      "Parece que el archivo no pudo cerrarse\n"
     ]
    }
   ],
   "source": [
    "try:\n",
    "    archivo = open(\"datos.txt\")\n",
    "except:\n",
    "    print(\"Parece que el archivo no existe\")\n",
    "finally:\n",
    "    try:\n",
    "        archivo.close()\n",
    "    except:\n",
    "        print(\"Parece que el archivo no pudo cerrarse\")"
   ]
  },
  {
   "cell_type": "markdown",
   "metadata": {},
   "source": [
    "## Ejercicio 3: Conversión de cadenas a enteros\n",
    "\n",
    "Escribe un programa que pida una lista de números separados por comas y convierta cada valor a un número entero. Maneja las excepciones para valores que no sean convertibles y asegúrate de informar si la conversión fue exitosa o no.\n"
   ]
  },
  {
   "cell_type": "code",
   "execution_count": 8,
   "metadata": {},
   "outputs": [
    {
     "name": "stdout",
     "output_type": "stream",
     "text": [
      "El valor 'hola' no se pudo convertir a int\n",
      "[1, 2, 3, 4, 5]\n"
     ]
    }
   ],
   "source": [
    "lista_del_usuario = input(\"Introduce numeros separados por comas\")\n",
    "\n",
    "lista = lista_del_usuario.split(',')\n",
    "\n",
    "lista_enteros = []\n",
    "for n in lista:\n",
    "    try:\n",
    "        lista_enteros.append(int(n))\n",
    "    except:\n",
    "        print(f\"El valor '{n}' no se pudo convertir a int\")\n",
    "\n",
    "print(lista_enteros)"
   ]
  },
  {
   "cell_type": "markdown",
   "metadata": {},
   "source": [
    "#### Ejercicio 4: Cálculo del promedio con manejo de excepciones\n",
    "\n",
    "Escribe una función que reciba una lista de números y calcule su promedio. Si la lista está vacía, lanza una excepción personalizada y maneja el error adecuadamente.\n"
   ]
  },
  {
   "cell_type": "code",
   "execution_count": 9,
   "metadata": {},
   "outputs": [
    {
     "name": "stdout",
     "output_type": "stream",
     "text": [
      "El promedio de [1,2,3,4,5,6,7] es: 4.0\n"
     ]
    }
   ],
   "source": [
    "def calcular_promedio(lista):\n",
    "    suma_valores = 0\n",
    "    for n in lista:\n",
    "        suma_valores += n\n",
    "    \n",
    "    return suma_valores / len(lista)\n",
    "\n",
    "print(f\"El promedio de [1,2,3,4,5,6,7] es: {calcular_promedio([1,2,3,4,5,6,7])}\")"
   ]
  },
  {
   "cell_type": "markdown",
   "metadata": {},
   "source": [
    "#### Ejercicio 5: Conversión segura de números\n",
    "\n",
    "Escribe un programa que convierta una cadena a número flotante e intente realizar una operación aritmética. Si la conversión falla, maneja la excepción y continúa con el flujo normal."
   ]
  },
  {
   "cell_type": "code",
   "execution_count": 10,
   "metadata": {},
   "outputs": [
    {
     "name": "stdout",
     "output_type": "stream",
     "text": [
      "La operacion no se ha podido realizar\n",
      "Continuamos con el flujo del programa\n"
     ]
    }
   ],
   "source": [
    "cadena = \"hola buenas\"\n",
    "\n",
    "try:\n",
    "    3 + float(cadena)\n",
    "except:\n",
    "    print(\"La operacion no se ha podido realizar\")\n",
    "finally:\n",
    "    print(\"Continuamos con el flujo del programa\")"
   ]
  },
  {
   "cell_type": "markdown",
   "metadata": {},
   "source": [
    "#### Ejercicio 6: Acceso a claves en diccionarios\n",
    "\n",
    "Escribe un programa que intente acceder a una clave específica en un diccionario. Si la clave no existe, maneja la excepción `KeyError` y muestra un mensaje indicando el problema."
   ]
  },
  {
   "cell_type": "code",
   "execution_count": 12,
   "metadata": {},
   "outputs": [
    {
     "name": "stdout",
     "output_type": "stream",
     "text": [
      "No se pudo acceder a la clave indicada\n"
     ]
    }
   ],
   "source": [
    "diccionario = {}\n",
    "\n",
    "try:\n",
    "    print(diccionario['clave_inexistente'])\n",
    "except KeyError:\n",
    "    print(\"No se pudo acceder a la clave indicada\")"
   ]
  },
  {
   "cell_type": "markdown",
   "metadata": {},
   "source": [
    "\n",
    "#### Ejercicio 7: Verificación de entradas de usuario\n",
    "\n",
    "Escribe un programa que pida al usuario que introduzca su edad. Si el usuario ingresa un valor no numérico o un valor fuera del rango esperado (por ejemplo, menor que 0 o mayor que 120), maneja las excepciones adecuadamente."
   ]
  },
  {
   "cell_type": "code",
   "execution_count": 16,
   "metadata": {},
   "outputs": [
    {
     "name": "stdout",
     "output_type": "stream",
     "text": [
      "El valor ingresado no es del tipo correcto\n",
      "la edad indicada no parece correcta\n"
     ]
    }
   ],
   "source": [
    "try:\n",
    "    edad_usuario = int(input(\"Introduce tu edad\"))\n",
    "except ValueError:\n",
    "    print(\"El valor ingresado no es del tipo correcto\")\n",
    "finally:\n",
    "    if edad_usuario <= 0 or edad_usuario > 120:\n",
    "        print(\"la edad indicada no parece correcta\")"
   ]
  },
  {
   "cell_type": "markdown",
   "metadata": {},
   "source": [
    "#### Ejercicio 8: Extracción de valores de una lista\n",
    "\n",
    "Escribe una función que intente acceder a un índice específico en una lista. Si el índice está fuera del rango, maneja la excepción `IndexError` y muestra un mensaje adecuado.\n"
   ]
  },
  {
   "cell_type": "code",
   "execution_count": 21,
   "metadata": {},
   "outputs": [
    {
     "data": {
      "text/plain": [
       "'La lista proporcionada no cuenta con el indice 8'"
      ]
     },
     "execution_count": 21,
     "metadata": {},
     "output_type": "execute_result"
    }
   ],
   "source": [
    "def acceder_indice_8(lista):\n",
    "    resultado = []\n",
    "    try:\n",
    "        resultado = lista[8]\n",
    "    except IndexError:\n",
    "        resultado = \"La lista proporcionada no cuenta con el indice 8\"\n",
    "    finally:\n",
    "        return resultado\n",
    "    \n",
    "acceder_indice_8([1,2,3,4,5])"
   ]
  },
  {
   "cell_type": "code",
   "execution_count": null,
   "metadata": {},
   "outputs": [],
   "source": []
  }
 ],
 "metadata": {
  "kernelspec": {
   "display_name": "contenido",
   "language": "python",
   "name": "python3"
  },
  "language_info": {
   "codemirror_mode": {
    "name": "ipython",
    "version": 3
   },
   "file_extension": ".py",
   "mimetype": "text/x-python",
   "name": "python",
   "nbconvert_exporter": "python",
   "pygments_lexer": "ipython3",
   "version": "3.12.4"
  }
 },
 "nbformat": 4,
 "nbformat_minor": 2
}
